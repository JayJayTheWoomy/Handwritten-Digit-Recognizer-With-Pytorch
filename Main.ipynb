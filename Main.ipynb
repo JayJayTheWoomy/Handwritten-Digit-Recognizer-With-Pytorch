{
 "cells": [
  {
   "cell_type": "markdown",
   "id": "32354d93-905c-4265-8a06-ce87cad08b93",
   "metadata": {},
   "source": [
    "## IMPORTS"
   ]
  },
  {
   "cell_type": "code",
   "execution_count": 2,
   "id": "d922209d-21fe-4e40-b82d-9681b43f8ce0",
   "metadata": {},
   "outputs": [],
   "source": [
    "from torchvision import datasets\n",
    "from torchvision.transforms import ToTensor"
   ]
  },
  {
   "cell_type": "code",
   "execution_count": 3,
   "id": "55cd3b4c-95ab-4e95-a695-6ec989cad6f3",
   "metadata": {},
   "outputs": [
    {
     "name": "stdout",
     "output_type": "stream",
     "text": [
      "Downloading http://yann.lecun.com/exdb/mnist/train-images-idx3-ubyte.gz\n",
      "Failed to download (trying next):\n",
      "HTTP Error 404: Not Found\n",
      "\n",
      "Downloading https://ossci-datasets.s3.amazonaws.com/mnist/train-images-idx3-ubyte.gz\n",
      "Downloading https://ossci-datasets.s3.amazonaws.com/mnist/train-images-idx3-ubyte.gz to data\\MNIST\\raw\\train-images-idx3-ubyte.gz\n"
     ]
    },
    {
     "name": "stderr",
     "output_type": "stream",
     "text": [
      "100.0%\n"
     ]
    },
    {
     "name": "stdout",
     "output_type": "stream",
     "text": [
      "Extracting data\\MNIST\\raw\\train-images-idx3-ubyte.gz to data\\MNIST\\raw\n",
      "\n",
      "Downloading http://yann.lecun.com/exdb/mnist/train-labels-idx1-ubyte.gz\n",
      "Failed to download (trying next):\n",
      "HTTP Error 404: Not Found\n",
      "\n",
      "Downloading https://ossci-datasets.s3.amazonaws.com/mnist/train-labels-idx1-ubyte.gz\n",
      "Downloading https://ossci-datasets.s3.amazonaws.com/mnist/train-labels-idx1-ubyte.gz to data\\MNIST\\raw\\train-labels-idx1-ubyte.gz\n"
     ]
    },
    {
     "name": "stderr",
     "output_type": "stream",
     "text": [
      "100.0%\n"
     ]
    },
    {
     "name": "stdout",
     "output_type": "stream",
     "text": [
      "Extracting data\\MNIST\\raw\\train-labels-idx1-ubyte.gz to data\\MNIST\\raw\n",
      "\n",
      "Downloading http://yann.lecun.com/exdb/mnist/t10k-images-idx3-ubyte.gz\n",
      "Failed to download (trying next):\n",
      "HTTP Error 404: Not Found\n",
      "\n",
      "Downloading https://ossci-datasets.s3.amazonaws.com/mnist/t10k-images-idx3-ubyte.gz\n",
      "Downloading https://ossci-datasets.s3.amazonaws.com/mnist/t10k-images-idx3-ubyte.gz to data\\MNIST\\raw\\t10k-images-idx3-ubyte.gz\n"
     ]
    },
    {
     "name": "stderr",
     "output_type": "stream",
     "text": [
      "100.0%\n"
     ]
    },
    {
     "name": "stdout",
     "output_type": "stream",
     "text": [
      "Extracting data\\MNIST\\raw\\t10k-images-idx3-ubyte.gz to data\\MNIST\\raw\n",
      "\n",
      "Downloading http://yann.lecun.com/exdb/mnist/t10k-labels-idx1-ubyte.gz\n",
      "Failed to download (trying next):\n",
      "HTTP Error 404: Not Found\n",
      "\n",
      "Downloading https://ossci-datasets.s3.amazonaws.com/mnist/t10k-labels-idx1-ubyte.gz\n",
      "Downloading https://ossci-datasets.s3.amazonaws.com/mnist/t10k-labels-idx1-ubyte.gz to data\\MNIST\\raw\\t10k-labels-idx1-ubyte.gz\n"
     ]
    },
    {
     "name": "stderr",
     "output_type": "stream",
     "text": [
      "100.0%"
     ]
    },
    {
     "name": "stdout",
     "output_type": "stream",
     "text": [
      "Extracting data\\MNIST\\raw\\t10k-labels-idx1-ubyte.gz to data\\MNIST\\raw\n",
      "\n"
     ]
    },
    {
     "name": "stderr",
     "output_type": "stream",
     "text": [
      "\n"
     ]
    }
   ],
   "source": [
    "train_data = datasets.MNIST(\n",
    "    root='data',\n",
    "    train = True,\n",
    "    transform = ToTensor(),\n",
    "    download = True\n",
    ")\n",
    "test_data = datasets.MNIST(\n",
    "    root='data',\n",
    "    train = False,\n",
    "    transform = ToTensor(),\n",
    "    download = True\n",
    ")"
   ]
  },
  {
   "cell_type": "code",
   "execution_count": 4,
   "id": "8a010f34-2224-4551-b191-d4bfda5de843",
   "metadata": {},
   "outputs": [
    {
     "data": {
      "text/plain": [
       "Dataset MNIST\n",
       "    Number of datapoints: 60000\n",
       "    Root location: data\n",
       "    Split: Train\n",
       "    StandardTransform\n",
       "Transform: ToTensor()"
      ]
     },
     "execution_count": 4,
     "metadata": {},
     "output_type": "execute_result"
    }
   ],
   "source": [
    "train_data"
   ]
  },
  {
   "cell_type": "code",
   "execution_count": 5,
   "id": "8d11bd6a-0c0c-4749-98ab-1c5a8dd2c787",
   "metadata": {},
   "outputs": [
    {
     "data": {
      "text/plain": [
       "Dataset MNIST\n",
       "    Number of datapoints: 10000\n",
       "    Root location: data\n",
       "    Split: Test\n",
       "    StandardTransform\n",
       "Transform: ToTensor()"
      ]
     },
     "execution_count": 5,
     "metadata": {},
     "output_type": "execute_result"
    }
   ],
   "source": [
    "test_data"
   ]
  },
  {
   "cell_type": "code",
   "execution_count": 10,
   "id": "f5d7eafd-0457-4f23-9be1-20f0162a73ed",
   "metadata": {},
   "outputs": [
    {
     "data": {
      "text/plain": [
       "torch.Size([60000, 28, 28])"
      ]
     },
     "execution_count": 10,
     "metadata": {},
     "output_type": "execute_result"
    }
   ],
   "source": [
    "train_data.data.size() #size() or shape"
   ]
  },
  {
   "cell_type": "code",
   "execution_count": 11,
   "id": "337e9bdf-67ce-4298-8a08-164203dcf1d0",
   "metadata": {},
   "outputs": [
    {
     "data": {
      "text/plain": [
       "torch.Size([10000, 28, 28])"
      ]
     },
     "execution_count": 11,
     "metadata": {},
     "output_type": "execute_result"
    }
   ],
   "source": [
    "test_data.data.shape"
   ]
  },
  {
   "cell_type": "code",
   "execution_count": 12,
   "id": "2b9f2ae1-9c52-47fe-912c-0b087227782b",
   "metadata": {},
   "outputs": [
    {
     "data": {
      "text/plain": [
       "torch.Size([60000])"
      ]
     },
     "execution_count": 12,
     "metadata": {},
     "output_type": "execute_result"
    }
   ],
   "source": [
    "train_data.targets.size()"
   ]
  },
  {
   "cell_type": "code",
   "execution_count": 13,
   "id": "a9407fb8-ca8b-4c11-b105-9e3027a5a7b2",
   "metadata": {},
   "outputs": [
    {
     "data": {
      "text/plain": [
       "tensor([5, 0, 4,  ..., 5, 6, 8])"
      ]
     },
     "execution_count": 13,
     "metadata": {},
     "output_type": "execute_result"
    }
   ],
   "source": [
    "train_data.targets"
   ]
  },
  {
   "cell_type": "code",
   "execution_count": 14,
   "id": "687a8483-d165-499d-9468-b7ae42db8315",
   "metadata": {},
   "outputs": [],
   "source": [
    "from torch.utils.data import DataLoader\n",
    "\n",
    "loaders={\n",
    "    'train': DataLoader(train_data,\n",
    "                        batch_size=100,\n",
    "                        shuffle=True,\n",
    "                        num_workers=1),\n",
    "    \n",
    "    'test': DataLoader(test_data,\n",
    "                        batch_size=100,\n",
    "                        shuffle=True,\n",
    "                        num_workers=1),\n",
    "}\n",
    "    "
   ]
  },
  {
   "cell_type": "code",
   "execution_count": 15,
   "id": "4ccb2bda-3b02-4a06-b360-ed432ff3765e",
   "metadata": {},
   "outputs": [
    {
     "data": {
      "text/plain": [
       "{'train': <torch.utils.data.dataloader.DataLoader at 0x24167904a60>,\n",
       " 'test': <torch.utils.data.dataloader.DataLoader at 0x24167905e10>}"
      ]
     },
     "execution_count": 15,
     "metadata": {},
     "output_type": "execute_result"
    }
   ],
   "source": [
    "loaders"
   ]
  },
  {
   "cell_type": "code",
   "execution_count": 19,
   "id": "63d8b85b-3e73-4f0d-827c-3d8b4b6f3592",
   "metadata": {},
   "outputs": [],
   "source": [
    "import torch.nn as nn\n",
    "import torch.nn.functional as F\n",
    "import torch.optim as optim\n",
    "\n",
    "class CNN(nn.Module):\n",
    "\n",
    "    def __init__(self):\n",
    "        super(CNN, self).__init__()\n",
    "\n",
    "        self.conv1 = nn.Conv2d(1, 10, kernel_size=5)\n",
    "        self.conv2 = nn.Conv2d(10, 20, kernel_size=5)\n",
    "        self.conv2_drop = nn.Dropout2d()\n",
    "        self.fc1 = nn.Linear(320, 50)\n",
    "        self.fc2 = nn.Linear(50, 10)\n",
    "\n",
    "    def forward(self, x):\n",
    "        x = F.relu(F.max_pool2d(self.conv1(x), 2))\n",
    "        x = F.relu(F.max_pool2d(self.conv2_drop(self.conv2(x)), 2))\n",
    "        x = x.view(-1,320)\n",
    "        x = F.relu(self.fc1(x))\n",
    "        x = F.dropout(x, training= self.training)\n",
    "        x = self.fc2(x)\n",
    "\n",
    "        return F.softmax(x)\n",
    "        "
   ]
  },
  {
   "cell_type": "code",
   "execution_count": 20,
   "id": "b76e9b5e-5078-4ee4-90d3-794114831dd0",
   "metadata": {},
   "outputs": [],
   "source": [
    "import torch\n",
    "\n",
    "device = torch.device('cuda' if torch.cuda.is_available() else 'cpu')\n",
    "\n",
    "model = CNN().to(device)\n",
    "\n",
    "optimizer = optim.Adam(model.parameters(), lr=0.001)\n",
    "\n",
    "loss_fn = nn.CrossEntropyLoss()\n",
    "\n",
    "def train(epoch):\n",
    "    model.train()\n",
    "    for batch_idx, (data, target) in enumerate(loaders['train']):\n",
    "        data, target = data.to(device), target.to(device)\n",
    "        optimizer.zero_grad()\n",
    "        output = model(data)\n",
    "        loss = loss_fn(output, target)\n",
    "        loss.backward()\n",
    "        optimizer.step()\n",
    "        if batch_idx % 20 ==0:\n",
    "            print(f'Train Epoch: {epoch} [{batch_idx * len(data)}/{len(loaders[\"train\"].dataset)} ({100. * batch_idx / len(loaders[\"train\"]): .0f}%)]\\t{loss.item():.6f}')\n",
    "\n",
    "def test():\n",
    "    model.eval()\n",
    "\n",
    "    test_loss = 0\n",
    "    correct = 0\n",
    "\n",
    "    with torch.no_grad():\n",
    "        for data, target in loaders['test']:\n",
    "            data, target = data.to(device), target.to(device)\n",
    "            output = model(data)\n",
    "            test_loss += loss_fn(output, target).item()\n",
    "            pred = output.argmax(dim=1, keepdim=True)\n",
    "            correct += pred.eq(target.view_as(pred)).sum().item()\n",
    "\n",
    "    test_loss /= len(loaders['test'].dataset)\n",
    "    print(f'\\nTest set: Average loss: {test_loss: .4f}, Accuracy {correct}/{len(loaders[\"test\"].dataset)} ({100. *correct / len(loaders[\"test\"].dataset):.0f}%\\n)')"
   ]
  },
  {
   "cell_type": "code",
   "execution_count": 21,
   "id": "0939b495-0563-4b98-8819-b56df4b8f817",
   "metadata": {},
   "outputs": [
    {
     "name": "stderr",
     "output_type": "stream",
     "text": [
      "C:\\Users\\Jason\\AppData\\Local\\Temp\\ipykernel_17088\\3605297755.py:24: UserWarning: Implicit dimension choice for softmax has been deprecated. Change the call to include dim=X as an argument.\n",
      "  return F.softmax(x)\n"
     ]
    },
    {
     "name": "stdout",
     "output_type": "stream",
     "text": [
      "Train Epoch: 1 [0/60000 ( 0%)]\t2.304244\n",
      "Train Epoch: 1 [2000/60000 ( 3%)]\t2.289564\n",
      "Train Epoch: 1 [4000/60000 ( 7%)]\t2.203854\n",
      "Train Epoch: 1 [6000/60000 ( 10%)]\t2.013476\n",
      "Train Epoch: 1 [8000/60000 ( 13%)]\t1.992258\n",
      "Train Epoch: 1 [10000/60000 ( 17%)]\t1.897499\n",
      "Train Epoch: 1 [12000/60000 ( 20%)]\t1.820424\n",
      "Train Epoch: 1 [14000/60000 ( 23%)]\t1.746895\n",
      "Train Epoch: 1 [16000/60000 ( 27%)]\t1.789133\n",
      "Train Epoch: 1 [18000/60000 ( 30%)]\t1.771581\n",
      "Train Epoch: 1 [20000/60000 ( 33%)]\t1.741682\n",
      "Train Epoch: 1 [22000/60000 ( 37%)]\t1.742596\n",
      "Train Epoch: 1 [24000/60000 ( 40%)]\t1.756192\n",
      "Train Epoch: 1 [26000/60000 ( 43%)]\t1.757137\n",
      "Train Epoch: 1 [28000/60000 ( 47%)]\t1.713161\n",
      "Train Epoch: 1 [30000/60000 ( 50%)]\t1.717057\n",
      "Train Epoch: 1 [32000/60000 ( 53%)]\t1.632793\n",
      "Train Epoch: 1 [34000/60000 ( 57%)]\t1.647189\n",
      "Train Epoch: 1 [36000/60000 ( 60%)]\t1.703544\n",
      "Train Epoch: 1 [38000/60000 ( 63%)]\t1.660218\n",
      "Train Epoch: 1 [40000/60000 ( 67%)]\t1.639853\n",
      "Train Epoch: 1 [42000/60000 ( 70%)]\t1.641895\n",
      "Train Epoch: 1 [44000/60000 ( 73%)]\t1.602427\n",
      "Train Epoch: 1 [46000/60000 ( 77%)]\t1.635381\n",
      "Train Epoch: 1 [48000/60000 ( 80%)]\t1.679110\n",
      "Train Epoch: 1 [50000/60000 ( 83%)]\t1.561626\n",
      "Train Epoch: 1 [52000/60000 ( 87%)]\t1.613250\n",
      "Train Epoch: 1 [54000/60000 ( 90%)]\t1.646408\n",
      "Train Epoch: 1 [56000/60000 ( 93%)]\t1.594040\n",
      "Train Epoch: 1 [58000/60000 ( 97%)]\t1.599246\n",
      "\n",
      "Test set: Average loss:  0.0153, Accuracy 9328/10000 (93%\n",
      ")\n",
      "Train Epoch: 2 [0/60000 ( 0%)]\t1.672621\n",
      "Train Epoch: 2 [2000/60000 ( 3%)]\t1.597495\n",
      "Train Epoch: 2 [4000/60000 ( 7%)]\t1.587364\n",
      "Train Epoch: 2 [6000/60000 ( 10%)]\t1.555182\n",
      "Train Epoch: 2 [8000/60000 ( 13%)]\t1.606433\n",
      "Train Epoch: 2 [10000/60000 ( 17%)]\t1.584788\n",
      "Train Epoch: 2 [12000/60000 ( 20%)]\t1.666458\n",
      "Train Epoch: 2 [14000/60000 ( 23%)]\t1.561573\n",
      "Train Epoch: 2 [16000/60000 ( 27%)]\t1.523184\n",
      "Train Epoch: 2 [18000/60000 ( 30%)]\t1.621633\n",
      "Train Epoch: 2 [20000/60000 ( 33%)]\t1.648026\n",
      "Train Epoch: 2 [22000/60000 ( 37%)]\t1.585184\n",
      "Train Epoch: 2 [24000/60000 ( 40%)]\t1.615131\n",
      "Train Epoch: 2 [26000/60000 ( 43%)]\t1.617324\n",
      "Train Epoch: 2 [28000/60000 ( 47%)]\t1.597958\n",
      "Train Epoch: 2 [30000/60000 ( 50%)]\t1.574832\n",
      "Train Epoch: 2 [32000/60000 ( 53%)]\t1.559053\n",
      "Train Epoch: 2 [34000/60000 ( 57%)]\t1.624092\n",
      "Train Epoch: 2 [36000/60000 ( 60%)]\t1.587492\n",
      "Train Epoch: 2 [38000/60000 ( 63%)]\t1.577124\n",
      "Train Epoch: 2 [40000/60000 ( 67%)]\t1.537721\n",
      "Train Epoch: 2 [42000/60000 ( 70%)]\t1.507650\n",
      "Train Epoch: 2 [44000/60000 ( 73%)]\t1.549883\n",
      "Train Epoch: 2 [46000/60000 ( 77%)]\t1.592197\n",
      "Train Epoch: 2 [48000/60000 ( 80%)]\t1.590032\n",
      "Train Epoch: 2 [50000/60000 ( 83%)]\t1.545815\n",
      "Train Epoch: 2 [52000/60000 ( 87%)]\t1.527265\n",
      "Train Epoch: 2 [54000/60000 ( 90%)]\t1.614043\n",
      "Train Epoch: 2 [56000/60000 ( 93%)]\t1.590502\n",
      "Train Epoch: 2 [58000/60000 ( 97%)]\t1.563566\n",
      "\n",
      "Test set: Average loss:  0.0151, Accuracy 9530/10000 (95%\n",
      ")\n",
      "Train Epoch: 3 [0/60000 ( 0%)]\t1.563705\n",
      "Train Epoch: 3 [2000/60000 ( 3%)]\t1.532555\n",
      "Train Epoch: 3 [4000/60000 ( 7%)]\t1.606706\n",
      "Train Epoch: 3 [6000/60000 ( 10%)]\t1.556518\n",
      "Train Epoch: 3 [8000/60000 ( 13%)]\t1.552673\n",
      "Train Epoch: 3 [10000/60000 ( 17%)]\t1.582110\n",
      "Train Epoch: 3 [12000/60000 ( 20%)]\t1.487928\n",
      "Train Epoch: 3 [14000/60000 ( 23%)]\t1.514483\n",
      "Train Epoch: 3 [16000/60000 ( 27%)]\t1.589289\n",
      "Train Epoch: 3 [18000/60000 ( 30%)]\t1.533185\n",
      "Train Epoch: 3 [20000/60000 ( 33%)]\t1.588756\n",
      "Train Epoch: 3 [22000/60000 ( 37%)]\t1.605407\n",
      "Train Epoch: 3 [24000/60000 ( 40%)]\t1.585304\n",
      "Train Epoch: 3 [26000/60000 ( 43%)]\t1.551805\n",
      "Train Epoch: 3 [28000/60000 ( 47%)]\t1.555008\n",
      "Train Epoch: 3 [30000/60000 ( 50%)]\t1.534866\n",
      "Train Epoch: 3 [32000/60000 ( 53%)]\t1.532164\n",
      "Train Epoch: 3 [34000/60000 ( 57%)]\t1.560599\n",
      "Train Epoch: 3 [36000/60000 ( 60%)]\t1.568621\n",
      "Train Epoch: 3 [38000/60000 ( 63%)]\t1.554894\n",
      "Train Epoch: 3 [40000/60000 ( 67%)]\t1.502259\n",
      "Train Epoch: 3 [42000/60000 ( 70%)]\t1.592096\n",
      "Train Epoch: 3 [44000/60000 ( 73%)]\t1.583266\n",
      "Train Epoch: 3 [46000/60000 ( 77%)]\t1.539890\n",
      "Train Epoch: 3 [48000/60000 ( 80%)]\t1.543436\n",
      "Train Epoch: 3 [50000/60000 ( 83%)]\t1.535776\n",
      "Train Epoch: 3 [52000/60000 ( 87%)]\t1.573894\n",
      "Train Epoch: 3 [54000/60000 ( 90%)]\t1.614574\n",
      "Train Epoch: 3 [56000/60000 ( 93%)]\t1.550528\n",
      "Train Epoch: 3 [58000/60000 ( 97%)]\t1.545672\n",
      "\n",
      "Test set: Average loss:  0.0150, Accuracy 9586/10000 (96%\n",
      ")\n",
      "Train Epoch: 4 [0/60000 ( 0%)]\t1.607601\n",
      "Train Epoch: 4 [2000/60000 ( 3%)]\t1.518220\n",
      "Train Epoch: 4 [4000/60000 ( 7%)]\t1.565950\n",
      "Train Epoch: 4 [6000/60000 ( 10%)]\t1.524813\n",
      "Train Epoch: 4 [8000/60000 ( 13%)]\t1.556768\n",
      "Train Epoch: 4 [10000/60000 ( 17%)]\t1.599870\n",
      "Train Epoch: 4 [12000/60000 ( 20%)]\t1.537373\n",
      "Train Epoch: 4 [14000/60000 ( 23%)]\t1.541571\n",
      "Train Epoch: 4 [16000/60000 ( 27%)]\t1.534006\n",
      "Train Epoch: 4 [18000/60000 ( 30%)]\t1.562545\n",
      "Train Epoch: 4 [20000/60000 ( 33%)]\t1.596385\n",
      "Train Epoch: 4 [22000/60000 ( 37%)]\t1.558557\n",
      "Train Epoch: 4 [24000/60000 ( 40%)]\t1.544658\n",
      "Train Epoch: 4 [26000/60000 ( 43%)]\t1.524845\n",
      "Train Epoch: 4 [28000/60000 ( 47%)]\t1.535062\n",
      "Train Epoch: 4 [30000/60000 ( 50%)]\t1.558803\n",
      "Train Epoch: 4 [32000/60000 ( 53%)]\t1.569896\n",
      "Train Epoch: 4 [34000/60000 ( 57%)]\t1.572550\n",
      "Train Epoch: 4 [36000/60000 ( 60%)]\t1.530254\n",
      "Train Epoch: 4 [38000/60000 ( 63%)]\t1.581761\n",
      "Train Epoch: 4 [40000/60000 ( 67%)]\t1.554797\n",
      "Train Epoch: 4 [42000/60000 ( 70%)]\t1.532422\n",
      "Train Epoch: 4 [44000/60000 ( 73%)]\t1.508870\n",
      "Train Epoch: 4 [46000/60000 ( 77%)]\t1.528863\n",
      "Train Epoch: 4 [48000/60000 ( 80%)]\t1.544044\n",
      "Train Epoch: 4 [50000/60000 ( 83%)]\t1.581739\n",
      "Train Epoch: 4 [52000/60000 ( 87%)]\t1.528768\n",
      "Train Epoch: 4 [54000/60000 ( 90%)]\t1.537794\n",
      "Train Epoch: 4 [56000/60000 ( 93%)]\t1.553160\n",
      "Train Epoch: 4 [58000/60000 ( 97%)]\t1.552204\n",
      "\n",
      "Test set: Average loss:  0.0150, Accuracy 9615/10000 (96%\n",
      ")\n",
      "Train Epoch: 5 [0/60000 ( 0%)]\t1.576355\n",
      "Train Epoch: 5 [2000/60000 ( 3%)]\t1.543496\n",
      "Train Epoch: 5 [4000/60000 ( 7%)]\t1.503227\n",
      "Train Epoch: 5 [6000/60000 ( 10%)]\t1.536786\n",
      "Train Epoch: 5 [8000/60000 ( 13%)]\t1.553519\n",
      "Train Epoch: 5 [10000/60000 ( 17%)]\t1.562067\n",
      "Train Epoch: 5 [12000/60000 ( 20%)]\t1.521627\n",
      "Train Epoch: 5 [14000/60000 ( 23%)]\t1.528966\n",
      "Train Epoch: 5 [16000/60000 ( 27%)]\t1.525417\n",
      "Train Epoch: 5 [18000/60000 ( 30%)]\t1.525518\n",
      "Train Epoch: 5 [20000/60000 ( 33%)]\t1.564232\n",
      "Train Epoch: 5 [22000/60000 ( 37%)]\t1.607855\n",
      "Train Epoch: 5 [24000/60000 ( 40%)]\t1.525553\n",
      "Train Epoch: 5 [26000/60000 ( 43%)]\t1.587647\n",
      "Train Epoch: 5 [28000/60000 ( 47%)]\t1.541586\n",
      "Train Epoch: 5 [30000/60000 ( 50%)]\t1.537748\n",
      "Train Epoch: 5 [32000/60000 ( 53%)]\t1.542969\n",
      "Train Epoch: 5 [34000/60000 ( 57%)]\t1.549812\n",
      "Train Epoch: 5 [36000/60000 ( 60%)]\t1.513086\n",
      "Train Epoch: 5 [38000/60000 ( 63%)]\t1.563563\n",
      "Train Epoch: 5 [40000/60000 ( 67%)]\t1.568022\n",
      "Train Epoch: 5 [42000/60000 ( 70%)]\t1.543334\n",
      "Train Epoch: 5 [44000/60000 ( 73%)]\t1.535906\n",
      "Train Epoch: 5 [46000/60000 ( 77%)]\t1.536500\n",
      "Train Epoch: 5 [48000/60000 ( 80%)]\t1.531763\n",
      "Train Epoch: 5 [50000/60000 ( 83%)]\t1.539269\n",
      "Train Epoch: 5 [52000/60000 ( 87%)]\t1.541797\n",
      "Train Epoch: 5 [54000/60000 ( 90%)]\t1.564363\n",
      "Train Epoch: 5 [56000/60000 ( 93%)]\t1.508929\n",
      "Train Epoch: 5 [58000/60000 ( 97%)]\t1.505188\n",
      "\n",
      "Test set: Average loss:  0.0150, Accuracy 9656/10000 (97%\n",
      ")\n",
      "Train Epoch: 6 [0/60000 ( 0%)]\t1.536090\n",
      "Train Epoch: 6 [2000/60000 ( 3%)]\t1.522459\n",
      "Train Epoch: 6 [4000/60000 ( 7%)]\t1.524300\n",
      "Train Epoch: 6 [6000/60000 ( 10%)]\t1.547938\n",
      "Train Epoch: 6 [8000/60000 ( 13%)]\t1.524320\n",
      "Train Epoch: 6 [10000/60000 ( 17%)]\t1.519674\n",
      "Train Epoch: 6 [12000/60000 ( 20%)]\t1.534436\n",
      "Train Epoch: 6 [14000/60000 ( 23%)]\t1.558314\n",
      "Train Epoch: 6 [16000/60000 ( 27%)]\t1.555933\n",
      "Train Epoch: 6 [18000/60000 ( 30%)]\t1.550385\n",
      "Train Epoch: 6 [20000/60000 ( 33%)]\t1.534127\n",
      "Train Epoch: 6 [22000/60000 ( 37%)]\t1.551902\n",
      "Train Epoch: 6 [24000/60000 ( 40%)]\t1.511411\n",
      "Train Epoch: 6 [26000/60000 ( 43%)]\t1.502077\n",
      "Train Epoch: 6 [28000/60000 ( 47%)]\t1.572234\n",
      "Train Epoch: 6 [30000/60000 ( 50%)]\t1.529356\n",
      "Train Epoch: 6 [32000/60000 ( 53%)]\t1.534805\n",
      "Train Epoch: 6 [34000/60000 ( 57%)]\t1.538466\n",
      "Train Epoch: 6 [36000/60000 ( 60%)]\t1.509303\n",
      "Train Epoch: 6 [38000/60000 ( 63%)]\t1.537868\n",
      "Train Epoch: 6 [40000/60000 ( 67%)]\t1.543170\n",
      "Train Epoch: 6 [42000/60000 ( 70%)]\t1.513197\n",
      "Train Epoch: 6 [44000/60000 ( 73%)]\t1.538609\n",
      "Train Epoch: 6 [46000/60000 ( 77%)]\t1.548399\n",
      "Train Epoch: 6 [48000/60000 ( 80%)]\t1.512824\n",
      "Train Epoch: 6 [50000/60000 ( 83%)]\t1.547554\n",
      "Train Epoch: 6 [52000/60000 ( 87%)]\t1.495181\n",
      "Train Epoch: 6 [54000/60000 ( 90%)]\t1.570906\n",
      "Train Epoch: 6 [56000/60000 ( 93%)]\t1.534892\n",
      "Train Epoch: 6 [58000/60000 ( 97%)]\t1.539561\n",
      "\n",
      "Test set: Average loss:  0.0149, Accuracy 9687/10000 (97%\n",
      ")\n",
      "Train Epoch: 7 [0/60000 ( 0%)]\t1.556772\n",
      "Train Epoch: 7 [2000/60000 ( 3%)]\t1.527325\n",
      "Train Epoch: 7 [4000/60000 ( 7%)]\t1.559262\n",
      "Train Epoch: 7 [6000/60000 ( 10%)]\t1.520842\n",
      "Train Epoch: 7 [8000/60000 ( 13%)]\t1.485602\n",
      "Train Epoch: 7 [10000/60000 ( 17%)]\t1.501701\n",
      "Train Epoch: 7 [12000/60000 ( 20%)]\t1.484592\n",
      "Train Epoch: 7 [14000/60000 ( 23%)]\t1.582355\n",
      "Train Epoch: 7 [16000/60000 ( 27%)]\t1.539098\n",
      "Train Epoch: 7 [18000/60000 ( 30%)]\t1.499191\n",
      "Train Epoch: 7 [20000/60000 ( 33%)]\t1.502751\n",
      "Train Epoch: 7 [22000/60000 ( 37%)]\t1.537343\n",
      "Train Epoch: 7 [24000/60000 ( 40%)]\t1.540763\n",
      "Train Epoch: 7 [26000/60000 ( 43%)]\t1.563480\n",
      "Train Epoch: 7 [28000/60000 ( 47%)]\t1.544985\n",
      "Train Epoch: 7 [30000/60000 ( 50%)]\t1.527640\n",
      "Train Epoch: 7 [32000/60000 ( 53%)]\t1.553540\n",
      "Train Epoch: 7 [34000/60000 ( 57%)]\t1.515394\n",
      "Train Epoch: 7 [36000/60000 ( 60%)]\t1.504340\n",
      "Train Epoch: 7 [38000/60000 ( 63%)]\t1.551813\n",
      "Train Epoch: 7 [40000/60000 ( 67%)]\t1.533398\n",
      "Train Epoch: 7 [42000/60000 ( 70%)]\t1.513618\n",
      "Train Epoch: 7 [44000/60000 ( 73%)]\t1.542694\n",
      "Train Epoch: 7 [46000/60000 ( 77%)]\t1.542169\n",
      "Train Epoch: 7 [48000/60000 ( 80%)]\t1.527009\n",
      "Train Epoch: 7 [50000/60000 ( 83%)]\t1.568910\n",
      "Train Epoch: 7 [52000/60000 ( 87%)]\t1.565961\n",
      "Train Epoch: 7 [54000/60000 ( 90%)]\t1.564460\n",
      "Train Epoch: 7 [56000/60000 ( 93%)]\t1.537209\n",
      "Train Epoch: 7 [58000/60000 ( 97%)]\t1.538261\n",
      "\n",
      "Test set: Average loss:  0.0149, Accuracy 9726/10000 (97%\n",
      ")\n",
      "Train Epoch: 8 [0/60000 ( 0%)]\t1.546099\n",
      "Train Epoch: 8 [2000/60000 ( 3%)]\t1.550869\n",
      "Train Epoch: 8 [4000/60000 ( 7%)]\t1.568453\n",
      "Train Epoch: 8 [6000/60000 ( 10%)]\t1.541090\n",
      "Train Epoch: 8 [8000/60000 ( 13%)]\t1.537007\n",
      "Train Epoch: 8 [10000/60000 ( 17%)]\t1.529768\n",
      "Train Epoch: 8 [12000/60000 ( 20%)]\t1.540517\n",
      "Train Epoch: 8 [14000/60000 ( 23%)]\t1.496133\n",
      "Train Epoch: 8 [16000/60000 ( 27%)]\t1.485683\n",
      "Train Epoch: 8 [18000/60000 ( 30%)]\t1.506226\n",
      "Train Epoch: 8 [20000/60000 ( 33%)]\t1.561770\n",
      "Train Epoch: 8 [22000/60000 ( 37%)]\t1.497072\n",
      "Train Epoch: 8 [24000/60000 ( 40%)]\t1.540725\n",
      "Train Epoch: 8 [26000/60000 ( 43%)]\t1.572276\n",
      "Train Epoch: 8 [28000/60000 ( 47%)]\t1.526389\n",
      "Train Epoch: 8 [30000/60000 ( 50%)]\t1.548743\n",
      "Train Epoch: 8 [32000/60000 ( 53%)]\t1.513693\n",
      "Train Epoch: 8 [34000/60000 ( 57%)]\t1.510264\n",
      "Train Epoch: 8 [36000/60000 ( 60%)]\t1.538248\n",
      "Train Epoch: 8 [38000/60000 ( 63%)]\t1.526558\n",
      "Train Epoch: 8 [40000/60000 ( 67%)]\t1.536750\n",
      "Train Epoch: 8 [42000/60000 ( 70%)]\t1.540234\n",
      "Train Epoch: 8 [44000/60000 ( 73%)]\t1.526081\n",
      "Train Epoch: 8 [46000/60000 ( 77%)]\t1.503423\n",
      "Train Epoch: 8 [48000/60000 ( 80%)]\t1.514731\n",
      "Train Epoch: 8 [50000/60000 ( 83%)]\t1.549229\n",
      "Train Epoch: 8 [52000/60000 ( 87%)]\t1.521263\n",
      "Train Epoch: 8 [54000/60000 ( 90%)]\t1.535527\n",
      "Train Epoch: 8 [56000/60000 ( 93%)]\t1.504987\n",
      "Train Epoch: 8 [58000/60000 ( 97%)]\t1.533735\n",
      "\n",
      "Test set: Average loss:  0.0149, Accuracy 9738/10000 (97%\n",
      ")\n",
      "Train Epoch: 9 [0/60000 ( 0%)]\t1.533308\n",
      "Train Epoch: 9 [2000/60000 ( 3%)]\t1.552920\n",
      "Train Epoch: 9 [4000/60000 ( 7%)]\t1.520013\n",
      "Train Epoch: 9 [6000/60000 ( 10%)]\t1.541681\n",
      "Train Epoch: 9 [8000/60000 ( 13%)]\t1.490351\n",
      "Train Epoch: 9 [10000/60000 ( 17%)]\t1.518281\n",
      "Train Epoch: 9 [12000/60000 ( 20%)]\t1.576475\n",
      "Train Epoch: 9 [14000/60000 ( 23%)]\t1.522288\n",
      "Train Epoch: 9 [16000/60000 ( 27%)]\t1.572268\n",
      "Train Epoch: 9 [18000/60000 ( 30%)]\t1.549366\n",
      "Train Epoch: 9 [20000/60000 ( 33%)]\t1.550360\n",
      "Train Epoch: 9 [22000/60000 ( 37%)]\t1.501475\n",
      "Train Epoch: 9 [24000/60000 ( 40%)]\t1.486743\n",
      "Train Epoch: 9 [26000/60000 ( 43%)]\t1.507175\n",
      "Train Epoch: 9 [28000/60000 ( 47%)]\t1.540750\n",
      "Train Epoch: 9 [30000/60000 ( 50%)]\t1.513868\n",
      "Train Epoch: 9 [32000/60000 ( 53%)]\t1.489574\n",
      "Train Epoch: 9 [34000/60000 ( 57%)]\t1.510890\n",
      "Train Epoch: 9 [36000/60000 ( 60%)]\t1.504686\n",
      "Train Epoch: 9 [38000/60000 ( 63%)]\t1.502763\n",
      "Train Epoch: 9 [40000/60000 ( 67%)]\t1.511122\n",
      "Train Epoch: 9 [42000/60000 ( 70%)]\t1.518996\n",
      "Train Epoch: 9 [44000/60000 ( 73%)]\t1.510330\n",
      "Train Epoch: 9 [46000/60000 ( 77%)]\t1.498923\n",
      "Train Epoch: 9 [48000/60000 ( 80%)]\t1.503038\n",
      "Train Epoch: 9 [50000/60000 ( 83%)]\t1.562317\n",
      "Train Epoch: 9 [52000/60000 ( 87%)]\t1.501579\n",
      "Train Epoch: 9 [54000/60000 ( 90%)]\t1.499877\n",
      "Train Epoch: 9 [56000/60000 ( 93%)]\t1.555817\n",
      "Train Epoch: 9 [58000/60000 ( 97%)]\t1.521965\n",
      "\n",
      "Test set: Average loss:  0.0149, Accuracy 9759/10000 (98%\n",
      ")\n",
      "Train Epoch: 10 [0/60000 ( 0%)]\t1.513210\n",
      "Train Epoch: 10 [2000/60000 ( 3%)]\t1.523184\n",
      "Train Epoch: 10 [4000/60000 ( 7%)]\t1.495183\n",
      "Train Epoch: 10 [6000/60000 ( 10%)]\t1.586492\n",
      "Train Epoch: 10 [8000/60000 ( 13%)]\t1.515020\n",
      "Train Epoch: 10 [10000/60000 ( 17%)]\t1.503987\n",
      "Train Epoch: 10 [12000/60000 ( 20%)]\t1.517718\n",
      "Train Epoch: 10 [14000/60000 ( 23%)]\t1.566417\n",
      "Train Epoch: 10 [16000/60000 ( 27%)]\t1.531217\n",
      "Train Epoch: 10 [18000/60000 ( 30%)]\t1.509213\n",
      "Train Epoch: 10 [20000/60000 ( 33%)]\t1.542158\n",
      "Train Epoch: 10 [22000/60000 ( 37%)]\t1.484985\n",
      "Train Epoch: 10 [24000/60000 ( 40%)]\t1.522582\n",
      "Train Epoch: 10 [26000/60000 ( 43%)]\t1.549501\n",
      "Train Epoch: 10 [28000/60000 ( 47%)]\t1.548885\n",
      "Train Epoch: 10 [30000/60000 ( 50%)]\t1.560654\n",
      "Train Epoch: 10 [32000/60000 ( 53%)]\t1.501620\n",
      "Train Epoch: 10 [34000/60000 ( 57%)]\t1.513016\n",
      "Train Epoch: 10 [36000/60000 ( 60%)]\t1.523896\n",
      "Train Epoch: 10 [38000/60000 ( 63%)]\t1.508916\n",
      "Train Epoch: 10 [40000/60000 ( 67%)]\t1.495712\n",
      "Train Epoch: 10 [42000/60000 ( 70%)]\t1.527375\n",
      "Train Epoch: 10 [44000/60000 ( 73%)]\t1.528400\n",
      "Train Epoch: 10 [46000/60000 ( 77%)]\t1.506569\n",
      "Train Epoch: 10 [48000/60000 ( 80%)]\t1.516738\n",
      "Train Epoch: 10 [50000/60000 ( 83%)]\t1.500202\n",
      "Train Epoch: 10 [52000/60000 ( 87%)]\t1.505926\n",
      "Train Epoch: 10 [54000/60000 ( 90%)]\t1.515856\n",
      "Train Epoch: 10 [56000/60000 ( 93%)]\t1.509094\n",
      "Train Epoch: 10 [58000/60000 ( 97%)]\t1.520069\n",
      "\n",
      "Test set: Average loss:  0.0149, Accuracy 9741/10000 (97%\n",
      ")\n"
     ]
    }
   ],
   "source": [
    "for epoch in range(1,11):\n",
    "    train(epoch)\n",
    "    test()"
   ]
  },
  {
   "cell_type": "code",
   "execution_count": 22,
   "id": "41c2e7d8-ad9f-4345-98b5-d2f748f3e0c0",
   "metadata": {},
   "outputs": [
    {
     "data": {
      "text/plain": [
       "device(type='cpu')"
      ]
     },
     "execution_count": 22,
     "metadata": {},
     "output_type": "execute_result"
    }
   ],
   "source": [
    "device"
   ]
  },
  {
   "cell_type": "code",
   "execution_count": 28,
   "id": "99496ce4-55cc-4286-8dd9-da5c4fc0a392",
   "metadata": {},
   "outputs": [
    {
     "name": "stdout",
     "output_type": "stream",
     "text": [
      "Prediction: 0\n"
     ]
    },
    {
     "name": "stderr",
     "output_type": "stream",
     "text": [
      "C:\\Users\\Jason\\AppData\\Local\\Temp\\ipykernel_17088\\3605297755.py:24: UserWarning: Implicit dimension choice for softmax has been deprecated. Change the call to include dim=X as an argument.\n",
      "  return F.softmax(x)\n"
     ]
    }
   ],
   "source": [
    "# import matplotlib.pyplot as plt\n",
    "\n",
    "model.eval()\n",
    "\n",
    "data, target = test_data[3]\n",
    "\n",
    "data = data.unsqueeze(0).to(device)\n",
    "\n",
    "output= model(data)\n",
    "\n",
    "prediction= output.argmax(dim=1, keepdim=True).item()\n",
    "\n",
    "print(f'Prediction: {prediction}')\n",
    "\n",
    "image = data.squeeze(0).squeeze(0).cpu().numpy()\n",
    "\n",
    "# plt.imshow(image, cmap='gray')\n",
    "# plt.show()"
   ]
  },
  {
   "cell_type": "code",
   "execution_count": null,
   "id": "112c1935-8737-4a60-8134-bcf59af9e3fd",
   "metadata": {},
   "outputs": [],
   "source": []
  }
 ],
 "metadata": {
  "kernelspec": {
   "display_name": "Python 3 (ipykernel)",
   "language": "python",
   "name": "python3"
  },
  "language_info": {
   "codemirror_mode": {
    "name": "ipython",
    "version": 3
   },
   "file_extension": ".py",
   "mimetype": "text/x-python",
   "name": "python",
   "nbconvert_exporter": "python",
   "pygments_lexer": "ipython3",
   "version": "3.10.18"
  }
 },
 "nbformat": 4,
 "nbformat_minor": 5
}
